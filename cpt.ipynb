{
 "cells": [
  {
   "cell_type": "markdown",
   "metadata": {},
   "source": [
    "### CPT 절차를 위한 노트북입니다. \n",
    "\n",
    "#### CPT? \n",
    "\n",
    "-> Current Procedure Terminology (CPT®) 코드는 의사와 의료전문가에게 의료서비스와 시술, 코딩에 대해 보고를 간소화하고 정확성과 효율성을 높이기 위한 통일된 언어를 제공합니다.\n",
    "\n",
    "-> 처방과 관련이 있을 것일지도 모릅니다.\n",
    "\n",
    "#### 1. D_CPT.csv\n",
    "\n",
    "- CATEGORY: CPT 코드의 범주를 식별하는 정수입니다.\n",
    "\n",
    "- SECTIONRANGE, SECTIONHEADER: SECTIONRANGE는 주어진 섹션의 코드 범위를 정의하고, SECTIONHEADER는 주어진 섹션의 설명을 제공합니다. 주어진 섹션에는 다음과 같은 8가지 섹션이 있습니다:\n",
    "\n",
    "    - 평가 및 관리\n",
    "    - 수술\n",
    "    - 방사선학\n",
    "    - 마취\n",
    "    - 신흥 기술\n",
    "    - 병리학 및 실험실\n",
    "    - 성능 측정\n",
    "\n",
    "- 의학 평가 및 관리는 행정적 또는 일반적인 비용을 나타내는 경향이 있습니다.\n",
    "\n",
    "- SUBSECTIONRANGE, SUBSECTIONHEADER: 섹션과 유사하게, SUBSECTIONRANGE는 주어진 하위 섹션의 코드 범위를 정의하고 SUBSECTIONHEADER는 주어진 하위 섹션의 설명을 제공합니다. 하위 섹션은 마취인 경우 마취에 대한 일반 해부학적 영역에 대한 정보를 제공하는 등 추가 세부 정보를 제공할 수 있습니다.\n",
    "\n",
    "- MINCODEINSUBSECTION, MAXCODEINSUBSECTION: 이 열은 SUBSECTIONRANGE 열의 최소 및 최대 값을 숫자로 제공합니다. 이를 통해 CPTEVENTS 테이블을 CPT_CD에 따라 D_CPT 테이블에 결합할 수 있습니다.\n",
    "\n",
    "#### 2. CPTEVENTS.csv\n",
    "\n",
    "- SUBJECT_ID, HADM_ID: 환자를 식별하는 고유한 식별자입니다. SUBJECT_ID는 개별 환자를, HADM_ID는 환자의 입원 기록을 식별합니다.\n",
    "\n",
    "- COSTCENTER: CPT 코드를 청구한 비용 센터를 나타냅니다. 'ICU'는 중환자실, 'Resp'는 호흡치료 센터를 나타냅니다.\n",
    "\n",
    "- CHARTDATE: 절차가 발생한 날짜입니다.\n",
    " \n",
    "- CPT_CD, CPT_NUMBER, CPT_SUFFIX: CPT 코드에 대한 정보를 제공합니다. CPT_CD는 원래 CPT 코드를, CPT_NUMBER는 숫자 버전을 - 나타냅니다. CPT_SUFFIX는 CPT_CD에 비숫자 문자가 포함된 경우 해당 문자를 포함합니다.\n",
    " \n",
    "- TICKET_ID_SEQ: CPT 코드의 순서를 나타냅니다.\n",
    " \n",
    "- SECTIONHEADER, SUBSECTIONHEADER: CPT 코드에 대한 섹션 헤더입니다. 이 헤더는 D_CPT 테이블을 사용하여 할당되었습니다.\n",
    " \n",
    "- DESCRIPTION: 호흡 비용 센터에 해당하는 CPT 코드의 경우 해당 코드의 의미에 대한 정보를 제공합니다. 그렇지 않은 경우 이 필드는 null입니다."
   ]
  },
  {
   "cell_type": "code",
   "execution_count": 2,
   "metadata": {},
   "outputs": [],
   "source": [
    "import pandas as pd"
   ]
  },
  {
   "cell_type": "code",
   "execution_count": 6,
   "metadata": {},
   "outputs": [
    {
     "name": "stdout",
     "output_type": "stream",
     "text": [
      "<class 'pandas.core.frame.DataFrame'>\n",
      "RangeIndex: 134 entries, 0 to 133\n",
      "Data columns (total 9 columns):\n",
      " #   Column               Non-Null Count  Dtype \n",
      "---  ------               --------------  ----- \n",
      " 0   ROW_ID               134 non-null    int64 \n",
      " 1   CATEGORY             134 non-null    int64 \n",
      " 2   SECTIONRANGE         134 non-null    object\n",
      " 3   SECTIONHEADER        134 non-null    object\n",
      " 4   SUBSECTIONRANGE      134 non-null    object\n",
      " 5   SUBSECTIONHEADER     134 non-null    object\n",
      " 6   CODESUFFIX           11 non-null     object\n",
      " 7   MINCODEINSUBSECTION  134 non-null    int64 \n",
      " 8   MAXCODEINSUBSECTION  134 non-null    int64 \n",
      "dtypes: int64(4), object(5)\n",
      "memory usage: 9.5+ KB\n"
     ]
    },
    {
     "name": "stderr",
     "output_type": "stream",
     "text": [
      "C:\\Users\\Administrator\\AppData\\Local\\Temp\\ipykernel_30300\\1595446365.py:3: DtypeWarning: Columns (4,5,7,11) have mixed types. Specify dtype option on import or set low_memory=False.\n",
      "  cpt_event  = pd.read_csv(BASE_DIR + 'CPTEVENTS.csv')\n"
     ]
    }
   ],
   "source": [
    "BASE_DIR = 'data/'\n",
    "\n",
    "cpt_event  = pd.read_csv(BASE_DIR + 'CPTEVENTS.csv')\n",
    "\n",
    "cpt_dict   = pd.read_csv(BASE_DIR + 'D_CPT.csv')\n",
    "\n",
    "# cpt_event.info()\n",
    "'''\n",
    " #   Column            Non-Null Count   Dtype  \n",
    "---  ------            --------------   -----  \n",
    " 0   ROW_ID            573146 non-null  int64  \n",
    " 1   SUBJECT_ID        573146 non-null  int64  \n",
    " 2   HADM_ID           573146 non-null  int64  \n",
    " 3   COSTCENTER        573146 non-null  object \n",
    " 4   CHARTDATE         101545 non-null  object \n",
    " 5   CPT_CD            573146 non-null  object \n",
    " 6   CPT_NUMBER        573128 non-null  float64\n",
    " 7   CPT_SUFFIX        22 non-null      object \n",
    " 8   TICKET_ID_SEQ     471601 non-null  float64\n",
    " 9   SECTIONHEADER     573125 non-null  object \n",
    " 10  SUBSECTIONHEADER  573125 non-null  object \n",
    " 11  DESCRIPTION       101545 non-null  object \n",
    " '''\n",
    "cpt_dict.info()\n",
    "'''\n",
    " #   Column               Non-Null Count  Dtype \n",
    "---  ------               --------------  ----- \n",
    " 0   ROW_ID               134 non-null    int64 \n",
    " 1   CATEGORY             134 non-null    int64 \n",
    " 2   SECTIONRANGE         134 non-null    object\n",
    " 3   SECTIONHEADER        134 non-null    object\n",
    " 4   SUBSECTIONRANGE      134 non-null    object\n",
    " 5   SUBSECTIONHEADER     134 non-null    object\n",
    " 6   CODESUFFIX           11 non-null     object\n",
    " 7   MINCODEINSUBSECTION  134 non-null    int64 \n",
    " 8   MAXCODEINSUBSECTION  134 non-null    int64 \n",
    " '''"
   ]
  },
  {
   "cell_type": "code",
   "execution_count": null,
   "metadata": {},
   "outputs": [],
   "source": []
  }
 ],
 "metadata": {
  "kernelspec": {
   "display_name": "Python 3",
   "language": "python",
   "name": "python3"
  },
  "language_info": {
   "codemirror_mode": {
    "name": "ipython",
    "version": 3
   },
   "file_extension": ".py",
   "mimetype": "text/x-python",
   "name": "python",
   "nbconvert_exporter": "python",
   "pygments_lexer": "ipython3",
   "version": "3.10.0"
  },
  "orig_nbformat": 4
 },
 "nbformat": 4,
 "nbformat_minor": 2
}
