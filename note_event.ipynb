{
 "cells": [
  {
   "cell_type": "markdown",
   "metadata": {},
   "source": [
    "### 환자의 진단과 처방을 한 테이블을 만들기 위한 노트북입니다. \n",
    "\n",
    "#### NOTEEVENTS.csv \n",
    "\n",
    "- 용량이 커서 읽기 힘듭니다. 따라서 top 5 category의 Report만 추출하여 사용하고자 합니다.\n",
    "\n",
    "​\n",
    "\n",
    "- 이 설명은 환자의 의료 노트를 기록하는 데 사용되는 데이터 테이블에 대한 정보를 제공합니다. 주요 열과 해당 설명은 다음과 같습니다:\n",
    "\n",
    "- SUBJECT_ID, HADM_ID: 환자를 식별하는 고유한 식별자입니다. SUBJECT_ID는 개별 환자를, HADM_ID는 환자의 입원 기록을 식별합니다.\n",
    "\n",
    "- CHARTDATE, CHARTTIME, STORETIME: 노트가 기록된 날짜와 시간을 기록합니다. CHARTDATE는 노트가 기록된 날짜를 항상 기록하며, CHARTTIME은 노트가 기록된 날짜와 시간을 기록합니다. STORETIME은 노트가 시스템에 저장된 날짜와 시간을 기록합니다.\n",
    "\n",
    "    - CATEGORY, DESCRIPTION: 노트의 유형을 정의합니다. \n",
    "    - 'Discharge summary': 퇴원 요약    \n",
    "    - 'Echo': 심장 초음파 보고서\n",
    "    - 'ECG': 심전도 보고서\n",
    "    - 'Nursing': 간호사에 의한 노트\n",
    "    - 'Physician': 의사에 의한 노트\n",
    "    - 'Rehab Services': 재활 서비스 노트\n",
    "    - 'Case Management': 케이스 매니지먼트 노트\n",
    "    - 'Respiratory': 호흡기 치료사에 의한 노트\n",
    "    - 'Nutrition': 영양사에 의한 노트\n",
    "    - 'General': 일반적인 노트\n",
    "    - 'Social Work': 사회복지사에 의한 노트\n",
    "    - 'Pharmacy': 약사에 의한 노트\n",
    "    - 'Consult': 진료 상담 노트\n",
    "    - 'Radiology': 방사선학 보고서\n",
    "    - 'Nursing/other': 간호사 또는 다른 노트 종류       \n",
    "       \n",
    " \n",
    "- CGID: 노트를 입력한 의료진을 식별하는 식별자입니다.\n",
    " \n",
    "- ISERROR: ISERROR 열에 '1'이 있으면 의사가 이 노트를 오류로 식별했음을 나타냅니다.\n",
    " \n",
    "- TEXT: 노트 텍스트를 포함합니다.\n",
    " \n",
    "- 이 정보를 통해 환자의 의료 노트를 이해하고 분석하는 데 도움이 됩니다."
   ]
  },
  {
   "cell_type": "code",
   "execution_count": 3,
   "metadata": {},
   "outputs": [],
   "source": [
    "import pandas as pd\n",
    "import os"
   ]
  },
  {
   "cell_type": "code",
   "execution_count": 4,
   "metadata": {},
   "outputs": [
    {
     "name": "stderr",
     "output_type": "stream",
     "text": [
      "C:\\Users\\Administrator\\AppData\\Local\\Temp\\ipykernel_28664\\3010055274.py:3: DtypeWarning: Columns (4,5) have mixed types. Specify dtype option on import or set low_memory=False.\n",
      "  note_event  = pd.read_csv(BASE_DIR + 'NOTEEVENTS.csv')\n"
     ]
    }
   ],
   "source": [
    "BASE_DIR = 'data/'\n",
    "\n",
    "note_event  = pd.read_csv(BASE_DIR + 'NOTEEVENTS.csv')"
   ]
  },
  {
   "cell_type": "code",
   "execution_count": 5,
   "metadata": {},
   "outputs": [],
   "source": [
    "# error가 있는 행은 모두 삭제\n",
    "note_event.drop(note_event[note_event['ISERROR'] == 1].index, inplace=True)"
   ]
  },
  {
   "cell_type": "code",
   "execution_count": 14,
   "metadata": {},
   "outputs": [],
   "source": [
    "# texts = note_event['TEXT'][0:10000]\n",
    "# with open('note_text.txt', 'w', encoding='utf-8') as file:\n",
    "#     for text in texts:\n",
    "#         file.write(str(text) + '\\n')"
   ]
  },
  {
   "cell_type": "code",
   "execution_count": 15,
   "metadata": {},
   "outputs": [
    {
     "name": "stdout",
     "output_type": "stream",
     "text": [
      "CGID 1911\n",
      "SUBJECT_ID 46146\n",
      "HADM_ID 58361\n",
      "CATEGORY 15\n",
      "DESCRIPTION 3840\n"
     ]
    }
   ],
   "source": [
    "print('CGID', note_event['CGID'].nunique())\n",
    "print('SUBJECT_ID', note_event['SUBJECT_ID'].nunique())\n",
    "print('HADM_ID', note_event['HADM_ID'].nunique())\n",
    "print('CATEGORY', note_event['CATEGORY'].nunique())\n",
    "print('DESCRIPTION', note_event['DESCRIPTION'].nunique())"
   ]
  },
  {
   "cell_type": "code",
   "execution_count": 22,
   "metadata": {},
   "outputs": [
    {
     "data": {
      "text/html": [
       "<div>\n",
       "<style scoped>\n",
       "    .dataframe tbody tr th:only-of-type {\n",
       "        vertical-align: middle;\n",
       "    }\n",
       "\n",
       "    .dataframe tbody tr th {\n",
       "        vertical-align: top;\n",
       "    }\n",
       "\n",
       "    .dataframe thead th {\n",
       "        text-align: right;\n",
       "    }\n",
       "</style>\n",
       "<table border=\"1\" class=\"dataframe\">\n",
       "  <thead>\n",
       "    <tr style=\"text-align: right;\">\n",
       "      <th></th>\n",
       "      <th>SUBJECT_ID</th>\n",
       "      <th>HADM_ID</th>\n",
       "      <th>CATEGORY</th>\n",
       "      <th>TEXT</th>\n",
       "    </tr>\n",
       "  </thead>\n",
       "  <tbody>\n",
       "    <tr>\n",
       "      <th>0</th>\n",
       "      <td>22532</td>\n",
       "      <td>167853.0</td>\n",
       "      <td>Discharge summary</td>\n",
       "      <td>Admission Date:  [**2151-7-16**]       Dischar...</td>\n",
       "    </tr>\n",
       "    <tr>\n",
       "      <th>1</th>\n",
       "      <td>13702</td>\n",
       "      <td>107527.0</td>\n",
       "      <td>Discharge summary</td>\n",
       "      <td>Admission Date:  [**2118-6-2**]       Discharg...</td>\n",
       "    </tr>\n",
       "    <tr>\n",
       "      <th>2</th>\n",
       "      <td>13702</td>\n",
       "      <td>167118.0</td>\n",
       "      <td>Discharge summary</td>\n",
       "      <td>Admission Date:  [**2119-5-4**]              D...</td>\n",
       "    </tr>\n",
       "    <tr>\n",
       "      <th>3</th>\n",
       "      <td>13702</td>\n",
       "      <td>196489.0</td>\n",
       "      <td>Discharge summary</td>\n",
       "      <td>Admission Date:  [**2124-7-21**]              ...</td>\n",
       "    </tr>\n",
       "    <tr>\n",
       "      <th>4</th>\n",
       "      <td>26880</td>\n",
       "      <td>135453.0</td>\n",
       "      <td>Discharge summary</td>\n",
       "      <td>Admission Date:  [**2162-3-3**]              D...</td>\n",
       "    </tr>\n",
       "    <tr>\n",
       "      <th>...</th>\n",
       "      <td>...</td>\n",
       "      <td>...</td>\n",
       "      <td>...</td>\n",
       "      <td>...</td>\n",
       "    </tr>\n",
       "    <tr>\n",
       "      <th>2083175</th>\n",
       "      <td>31097</td>\n",
       "      <td>115637.0</td>\n",
       "      <td>Nursing/other</td>\n",
       "      <td>NPN\\n\\n\\n#1  Infant remains in RA with O2 sats...</td>\n",
       "    </tr>\n",
       "    <tr>\n",
       "      <th>2083176</th>\n",
       "      <td>31097</td>\n",
       "      <td>115637.0</td>\n",
       "      <td>Nursing/other</td>\n",
       "      <td>Neonatology\\nDOL #5, CGA 36 weeks.\\n\\nCVR: Con...</td>\n",
       "    </tr>\n",
       "    <tr>\n",
       "      <th>2083177</th>\n",
       "      <td>31097</td>\n",
       "      <td>115637.0</td>\n",
       "      <td>Nursing/other</td>\n",
       "      <td>Family Meeting Note\\nFamily meeting held with ...</td>\n",
       "    </tr>\n",
       "    <tr>\n",
       "      <th>2083178</th>\n",
       "      <td>31097</td>\n",
       "      <td>115637.0</td>\n",
       "      <td>Nursing/other</td>\n",
       "      <td>NPN 1800\\n\\n\\n#1 Resp: [**Known lastname 2243*...</td>\n",
       "    </tr>\n",
       "    <tr>\n",
       "      <th>2083179</th>\n",
       "      <td>31097</td>\n",
       "      <td>115637.0</td>\n",
       "      <td>Nursing/other</td>\n",
       "      <td>NPN 1800\\nNursing Addendum:\\n[**Known lastname...</td>\n",
       "    </tr>\n",
       "  </tbody>\n",
       "</table>\n",
       "<p>1132519 rows × 4 columns</p>\n",
       "</div>"
      ],
      "text/plain": [
       "         SUBJECT_ID   HADM_ID           CATEGORY  \\\n",
       "0             22532  167853.0  Discharge summary   \n",
       "1             13702  107527.0  Discharge summary   \n",
       "2             13702  167118.0  Discharge summary   \n",
       "3             13702  196489.0  Discharge summary   \n",
       "4             26880  135453.0  Discharge summary   \n",
       "...             ...       ...                ...   \n",
       "2083175       31097  115637.0      Nursing/other   \n",
       "2083176       31097  115637.0      Nursing/other   \n",
       "2083177       31097  115637.0      Nursing/other   \n",
       "2083178       31097  115637.0      Nursing/other   \n",
       "2083179       31097  115637.0      Nursing/other   \n",
       "\n",
       "                                                      TEXT  \n",
       "0        Admission Date:  [**2151-7-16**]       Dischar...  \n",
       "1        Admission Date:  [**2118-6-2**]       Discharg...  \n",
       "2        Admission Date:  [**2119-5-4**]              D...  \n",
       "3        Admission Date:  [**2124-7-21**]              ...  \n",
       "4        Admission Date:  [**2162-3-3**]              D...  \n",
       "...                                                    ...  \n",
       "2083175  NPN\\n\\n\\n#1  Infant remains in RA with O2 sats...  \n",
       "2083176  Neonatology\\nDOL #5, CGA 36 weeks.\\n\\nCVR: Con...  \n",
       "2083177  Family Meeting Note\\nFamily meeting held with ...  \n",
       "2083178  NPN 1800\\n\\n\\n#1 Resp: [**Known lastname 2243*...  \n",
       "2083179  NPN 1800\\nNursing Addendum:\\n[**Known lastname...  \n",
       "\n",
       "[1132519 rows x 4 columns]"
      ]
     },
     "execution_count": 22,
     "metadata": {},
     "output_type": "execute_result"
    }
   ],
   "source": [
    "note_event_report = note_event[note_event['DESCRIPTION'] == 'Report'][['SUBJECT_ID', 'HADM_ID', 'CATEGORY', 'TEXT']]\n",
    "note_event_report"
   ]
  },
  {
   "cell_type": "code",
   "execution_count": 23,
   "metadata": {},
   "outputs": [
    {
     "data": {
      "text/plain": [
       "CATEGORY\n",
       "Nursing/other        822497\n",
       "ECG                  209051\n",
       "Discharge summary     55177\n",
       "Echo                  45794\n",
       "Name: count, dtype: int64"
      ]
     },
     "execution_count": 23,
     "metadata": {},
     "output_type": "execute_result"
    }
   ],
   "source": [
    "note_event_report['CATEGORY'].value_counts()"
   ]
  },
  {
   "cell_type": "markdown",
   "metadata": {},
   "source": []
  },
  {
   "cell_type": "code",
   "execution_count": 21,
   "metadata": {},
   "outputs": [
    {
     "data": {
      "text/plain": [
       "CATEGORY\n",
       "Nursing/other        822497\n",
       "Radiology            522279\n",
       "Nursing              223182\n",
       "ECG                  209051\n",
       "Physician            141281\n",
       "Discharge summary     59652\n",
       "Echo                  45794\n",
       "Respiratory           31701\n",
       "Nutrition              9400\n",
       "General                8236\n",
       "Rehab Services         5408\n",
       "Social Work            2661\n",
       "Case Management         953\n",
       "Pharmacy                101\n",
       "Consult                  98\n",
       "Name: count, dtype: int64"
      ]
     },
     "execution_count": 21,
     "metadata": {},
     "output_type": "execute_result"
    }
   ],
   "source": [
    "note_event['CATEGORY'].value_counts()"
   ]
  },
  {
   "cell_type": "code",
   "execution_count": 17,
   "metadata": {},
   "outputs": [
    {
     "data": {
      "text/html": [
       "<div>\n",
       "<style scoped>\n",
       "    .dataframe tbody tr th:only-of-type {\n",
       "        vertical-align: middle;\n",
       "    }\n",
       "\n",
       "    .dataframe tbody tr th {\n",
       "        vertical-align: top;\n",
       "    }\n",
       "\n",
       "    .dataframe thead th {\n",
       "        text-align: right;\n",
       "    }\n",
       "</style>\n",
       "<table border=\"1\" class=\"dataframe\">\n",
       "  <thead>\n",
       "    <tr style=\"text-align: right;\">\n",
       "      <th></th>\n",
       "      <th>SUBJECT_ID</th>\n",
       "      <th>HADM_ID</th>\n",
       "      <th>CATEGORY</th>\n",
       "      <th>TEXT</th>\n",
       "    </tr>\n",
       "  </thead>\n",
       "  <tbody>\n",
       "    <tr>\n",
       "      <th>52120</th>\n",
       "      <td>13289</td>\n",
       "      <td>119078.0</td>\n",
       "      <td>ECG</td>\n",
       "      <td>Sinus tachycardia\\nShort PR interval\\nPossible...</td>\n",
       "    </tr>\n",
       "    <tr>\n",
       "      <th>100164</th>\n",
       "      <td>88360</td>\n",
       "      <td>130127.0</td>\n",
       "      <td>ECG</td>\n",
       "      <td>Sinus rhythm with A-V conduction delay.  Infer...</td>\n",
       "    </tr>\n",
       "    <tr>\n",
       "      <th>100165</th>\n",
       "      <td>88360</td>\n",
       "      <td>130127.0</td>\n",
       "      <td>ECG</td>\n",
       "      <td>Sinus rhythm with A-V conduction delay. Infero...</td>\n",
       "    </tr>\n",
       "    <tr>\n",
       "      <th>100166</th>\n",
       "      <td>14209</td>\n",
       "      <td>117857.0</td>\n",
       "      <td>ECG</td>\n",
       "      <td>Sinus rhythm. Normal ECG. Compared to the prev...</td>\n",
       "    </tr>\n",
       "    <tr>\n",
       "      <th>100167</th>\n",
       "      <td>14209</td>\n",
       "      <td>117857.0</td>\n",
       "      <td>ECG</td>\n",
       "      <td>Sinus tachycardia. Low limb lead voltage. Comp...</td>\n",
       "    </tr>\n",
       "    <tr>\n",
       "      <th>...</th>\n",
       "      <td>...</td>\n",
       "      <td>...</td>\n",
       "      <td>...</td>\n",
       "      <td>...</td>\n",
       "    </tr>\n",
       "    <tr>\n",
       "      <th>2083175</th>\n",
       "      <td>31097</td>\n",
       "      <td>115637.0</td>\n",
       "      <td>Nursing/other</td>\n",
       "      <td>NPN\\n\\n\\n#1  Infant remains in RA with O2 sats...</td>\n",
       "    </tr>\n",
       "    <tr>\n",
       "      <th>2083176</th>\n",
       "      <td>31097</td>\n",
       "      <td>115637.0</td>\n",
       "      <td>Nursing/other</td>\n",
       "      <td>Neonatology\\nDOL #5, CGA 36 weeks.\\n\\nCVR: Con...</td>\n",
       "    </tr>\n",
       "    <tr>\n",
       "      <th>2083177</th>\n",
       "      <td>31097</td>\n",
       "      <td>115637.0</td>\n",
       "      <td>Nursing/other</td>\n",
       "      <td>Family Meeting Note\\nFamily meeting held with ...</td>\n",
       "    </tr>\n",
       "    <tr>\n",
       "      <th>2083178</th>\n",
       "      <td>31097</td>\n",
       "      <td>115637.0</td>\n",
       "      <td>Nursing/other</td>\n",
       "      <td>NPN 1800\\n\\n\\n#1 Resp: [**Known lastname 2243*...</td>\n",
       "    </tr>\n",
       "    <tr>\n",
       "      <th>2083179</th>\n",
       "      <td>31097</td>\n",
       "      <td>115637.0</td>\n",
       "      <td>Nursing/other</td>\n",
       "      <td>NPN 1800\\nNursing Addendum:\\n[**Known lastname...</td>\n",
       "    </tr>\n",
       "  </tbody>\n",
       "</table>\n",
       "<p>1031548 rows × 4 columns</p>\n",
       "</div>"
      ],
      "text/plain": [
       "         SUBJECT_ID   HADM_ID       CATEGORY  \\\n",
       "52120         13289  119078.0            ECG   \n",
       "100164        88360  130127.0            ECG   \n",
       "100165        88360  130127.0            ECG   \n",
       "100166        14209  117857.0            ECG   \n",
       "100167        14209  117857.0            ECG   \n",
       "...             ...       ...            ...   \n",
       "2083175       31097  115637.0  Nursing/other   \n",
       "2083176       31097  115637.0  Nursing/other   \n",
       "2083177       31097  115637.0  Nursing/other   \n",
       "2083178       31097  115637.0  Nursing/other   \n",
       "2083179       31097  115637.0  Nursing/other   \n",
       "\n",
       "                                                      TEXT  \n",
       "52120    Sinus tachycardia\\nShort PR interval\\nPossible...  \n",
       "100164   Sinus rhythm with A-V conduction delay.  Infer...  \n",
       "100165   Sinus rhythm with A-V conduction delay. Infero...  \n",
       "100166   Sinus rhythm. Normal ECG. Compared to the prev...  \n",
       "100167   Sinus tachycardia. Low limb lead voltage. Comp...  \n",
       "...                                                    ...  \n",
       "2083175  NPN\\n\\n\\n#1  Infant remains in RA with O2 sats...  \n",
       "2083176  Neonatology\\nDOL #5, CGA 36 weeks.\\n\\nCVR: Con...  \n",
       "2083177  Family Meeting Note\\nFamily meeting held with ...  \n",
       "2083178  NPN 1800\\n\\n\\n#1 Resp: [**Known lastname 2243*...  \n",
       "2083179  NPN 1800\\nNursing Addendum:\\n[**Known lastname...  \n",
       "\n",
       "[1031548 rows x 4 columns]"
      ]
     },
     "execution_count": 17,
     "metadata": {},
     "output_type": "execute_result"
    }
   ],
   "source": [
    "top5_cat = ['Nursing/other', 'Radiology', 'Nursing', 'ECG', 'Physician']\n",
    "note_event_report = note_event_report[note_event_report['CATEGORY'].isin(top5_cat)]\n",
    "note_event_report"
   ]
  },
  {
   "cell_type": "code",
   "execution_count": 24,
   "metadata": {},
   "outputs": [],
   "source": [
    "for category in top5_cat:\n",
    "    safe_category = category.replace('/', '_')  # 파일 이름에 슬래시가 포함되지 않도록 함\n",
    "    texts = note_event_report[note_event_report['CATEGORY'] == category]['TEXT']\n",
    "    with open(f'text/{safe_category}_text.txt', 'w', encoding='utf-8') as file:\n",
    "        for text in texts:\n",
    "            file.write(str(text) + '\\n')\n",
    "\n",
    "os.makedirs('text', exist_ok=True)\n",
    "\n",
    "for category in top5_cat:\n",
    "    safe_category = category.replace('/', '_')\n",
    "    texts = note_event[note_event['CATEGORY'] == category]\n",
    "    texts.to_csv(f'text/{safe_category}_text.csv', index=False)"
   ]
  },
  {
   "cell_type": "markdown",
   "metadata": {},
   "source": []
  },
  {
   "cell_type": "code",
   "execution_count": null,
   "metadata": {},
   "outputs": [],
   "source": []
  }
 ],
 "metadata": {
  "kernelspec": {
   "display_name": "Python 3",
   "language": "python",
   "name": "python3"
  },
  "language_info": {
   "codemirror_mode": {
    "name": "ipython",
    "version": 3
   },
   "file_extension": ".py",
   "mimetype": "text/x-python",
   "name": "python",
   "nbconvert_exporter": "python",
   "pygments_lexer": "ipython3",
   "version": "3.10.0"
  },
  "orig_nbformat": 4
 },
 "nbformat": 4,
 "nbformat_minor": 2
}
